{
 "cells": [
  {
   "cell_type": "markdown",
   "metadata": {},
   "source": [
    "# Ejemplo inferencia con TPU\n",
    "\n",
    "## <span style=\"color:red\">J. Oriol Moreno Usó</span> "
   ]
  },
  {
   "cell_type": "markdown",
   "metadata": {},
   "source": [
    "## Librerias"
   ]
  },
  {
   "cell_type": "code",
   "execution_count": 1,
   "metadata": {},
   "outputs": [],
   "source": [
    "import cv2\n",
    "import os\n",
    "import copy\n",
    "import numpy as np\n",
    "import time\n",
    "import matplotlib.pyplot as plt\n",
    "#import tensorflow as tf\n",
    "\n",
    "import pycoral\n",
    "from pycoral.adapters.common import input_details\n",
    "from pycoral.adapters.common import output_tensor\n",
    "from pycoral.utils.edgetpu import make_interpreter\n",
    "from pycoral.utils.edgetpu import run_inference"
   ]
  },
  {
   "cell_type": "markdown",
   "metadata": {},
   "source": [
    "## Carga modelo e imagen"
   ]
  },
  {
   "cell_type": "code",
   "execution_count": 2,
   "metadata": {},
   "outputs": [],
   "source": [
    "def get_images(path):\n",
    "    path_content = os.listdir(path)\n",
    "    images = []\n",
    "    for img_name in path_content:\n",
    "        img = cv2.imread(path + img_name, cv2.IMREAD_GRAYSCALE)\n",
    "        #im_bw = cv2.threshold(img, 128, 255, cv2.THRESH_BINARY)[1]\n",
    "        img = cv2.resize(img, (28, 28))\n",
    "        images.append(img)\n",
    "\n",
    "    return np.array(images)\n",
    "\n",
    "x_test = get_images(\"./data/test/\")\n",
    "\n",
    "x_test = x_test.astype('float32') / 255.\n",
    "#x_test = x_test.reshape((len(x_test), np.prod(x_test.shape[1:])))\n",
    "x_test = np.reshape(x_test, (len(x_test), 28, 28, 1))"
   ]
  },
  {
   "cell_type": "code",
   "execution_count": 3,
   "metadata": {},
   "outputs": [
    {
     "data": {
      "text/plain": [
       "(10000, 28, 28, 1)"
      ]
     },
     "execution_count": 3,
     "metadata": {},
     "output_type": "execute_result"
    }
   ],
   "source": [
    "x_test.shape"
   ]
  },
  {
   "cell_type": "markdown",
   "metadata": {},
   "source": [
    "Dado que pycoral es incompatible con cualquier tipo de carga de tensorflow o keras, la única forma de cargar los datos es cargarlos desde local."
   ]
  },
  {
   "cell_type": "code",
   "execution_count": 4,
   "metadata": {},
   "outputs": [],
   "source": [
    "# Paths a los dos modelos\n",
    "model_path_quant = \"./quant_models/cnn_AE_mnist_quant_1.1_int8_edgetpu.tflite\"\n",
    "model_path = \"./models/cnn_AE_mnist_quant_1.1_int8.tflite\""
   ]
  },
  {
   "cell_type": "markdown",
   "metadata": {},
   "source": [
    "## Modelo sin operaciones en tpu"
   ]
  },
  {
   "cell_type": "code",
   "execution_count": 19,
   "metadata": {},
   "outputs": [],
   "source": [
    "interpreter = make_interpreter(model_path) # Genereramos/cargamos el objeto modelo\n",
    "interpreter.allocate_tensors() # Lo enviamos a TPU\n",
    "inference_size = input_details(interpreter, 'shape') # Recogemos el input shape del modelo"
   ]
  },
  {
   "cell_type": "markdown",
   "metadata": {},
   "source": [
    "En este caso, no se envía ninguna operación a TPU puesto que el modelo no está compilado para TPU."
   ]
  },
  {
   "cell_type": "markdown",
   "metadata": {},
   "source": [
    "### Reconstrucción/Inferencia"
   ]
  },
  {
   "cell_type": "code",
   "execution_count": 20,
   "metadata": {},
   "outputs": [
    {
     "name": "stdout",
     "output_type": "stream",
     "text": [
      "Execute time: 137.86 segs\n"
     ]
    }
   ],
   "source": [
    "t1 = time.time()\n",
    "images = [] # Lista para guardar la reconstruccion de cada imagen\n",
    "\n",
    "for img in x_test:\n",
    "    #cv2_im = cv2.resize(img, inference_size) # Cambio de shape para que encaje con el tamaño de input\n",
    "    run_inference(interpreter, img.tobytes()) # Inferencia\n",
    "    reconstruction = output_tensor(interpreter,0) # Recogemos la reconstrucción\n",
    "    img_rec = copy.copy(reconstruction) # Hacemos una copia de cada imagen reconstruída dado que reconstruction es mutable\n",
    "    images.append(img_rec) # Añadimos cada imagen reconstruida a la lista\n",
    "print(f\"Execute time: {round(time.time() - t1, 2)} segs\")"
   ]
  },
  {
   "cell_type": "code",
   "execution_count": 8,
   "metadata": {},
   "outputs": [
    {
     "data": {
      "image/png": "[encoded data removed]",
      "text/plain": [
       "<Figure size 1440x288 with 20 Axes>"
      ]
     },
     "metadata": {
      "needs_background": "light"
     },
     "output_type": "display_data"
    }
   ],
   "source": [
    "n = 10\n",
    "plt.figure(figsize=(20, 4))\n",
    "for i in range(n):\n",
    "    # display original\n",
    "    ax = plt.subplot(2, n, i + 1)\n",
    "    plt.imshow(x_test[i].reshape(28, 28))\n",
    "    plt.gray()\n",
    "    plt.title(\"Original\")\n",
    "    ax.get_xaxis().set_visible(False)\n",
    "    ax.get_yaxis().set_visible(False)\n",
    "\n",
    "    # display reconstruccion\n",
    "    ax = plt.subplot(2, n, i + 1 + n)\n",
    "    plt.imshow(images[i].reshape(28, 28))\n",
    "    plt.gray()\n",
    "    plt.title(\"Reconstruida\")\n",
    "    ax.get_xaxis().set_visible(False)\n",
    "    ax.get_yaxis().set_visible(False)\n",
    "plt.show()"
   ]
  },
  {
   "cell_type": "markdown",
   "metadata": {},
   "source": [
    "## Modelo compilado para TPU"
   ]
  },
  {
   "cell_type": "code",
   "execution_count": 17,
   "metadata": {},
   "outputs": [],
   "source": [
    "interpreter = make_interpreter(model_path_quant) # Genereramos/cargamos el objeto modelo\n",
    "interpreter.allocate_tensors() # Lo enviamos a TPU\n",
    "inference_size = input_details(interpreter, 'shape') # Recogemos el input shape del modelo"
   ]
  },
  {
   "cell_type": "markdown",
   "metadata": {},
   "source": [
    "### Reconstrucción/Inferencia"
   ]
  },
  {
   "cell_type": "code",
   "execution_count": 18,
   "metadata": {},
   "outputs": [
    {
     "name": "stdout",
     "output_type": "stream",
     "text": [
      "Execute time: 6.78 segs\n"
     ]
    }
   ],
   "source": [
    "t1 = time.time()\n",
    "images = [] # Lista para guardar la reconstruccion de cada imagen\n",
    "\n",
    "for img in x_test:\n",
    "    #cv2_im = cv2.resize(img, inference_size) # Cambio de shape para que encaje con el tamaño de input\n",
    "    run_inference(interpreter, img.tobytes()) # Inferencia\n",
    "    reconstruction = output_tensor(interpreter,0) # Recogemos la reconstrucción\n",
    "    img_rec = copy.copy(reconstruction) # Hacemos una copia de cada imagen reconstruída dado que reconstruction es mutable\n",
    "    images.append(img_rec) # Añadimos cada imagen reconstruida a la lista\n",
    "print(f\"Execute time: {round(time.time() - t1, 2)} segs\")"
   ]
  },
  {
   "cell_type": "code",
   "execution_count": 14,
   "metadata": {},
   "outputs": [
    {
     "name": "stdout",
     "output_type": "stream",
     "text": [
      "Execute time: 6.94 segs\n"
     ]
    }
   ],
   "source": [
    "t1 = time.time()\n",
    "images = np.empty((x_test.shape)) # Lista para guardar la reconstruccion de cada imagen\n",
    "\n",
    "for idx, img in enumerate(x_test):\n",
    "    #cv2_im = cv2.resize(img, inference_size) # Cambio de shape para que encaje con el tamaño de input\n",
    "    run_inference(interpreter, img.tobytes()) # Inferencia\n",
    "    images[idx] = output_tensor(interpreter,0) # Recogemos la reconstrucción\n",
    "print(f\"Execute time: {round(time.time() - t1, 2)} segs\")"
   ]
  },
  {
   "cell_type": "markdown",
   "metadata": {},
   "source": [
    "El uso de np.arrays es mucho más eficiente que el uso de listas."
   ]
  },
  {
   "cell_type": "markdown",
   "metadata": {},
   "source": [
    "Puesto que el *batch* que acepta el modelo es *(1, 28, 28, 1)* tenemos que enviar las imágenes de una en una,    \n",
    "y como *reconstruction* es mutable, hace falta una copia real (no link) para poder guardar cada imagen reconstruida.\n",
    "\n",
    "Como podemos observar, la diferencia de tiempo en inferencia entre el modelo en CPU y TPU es en este caso de x17.\n",
    "\n",
    "Para una aproximación más óptima, es interesante observar cual es el tamaño de *batch* que minimiza el tiempo de inferencia."
   ]
  },
  {
   "cell_type": "markdown",
   "metadata": {},
   "source": [
    "### Observarmos las reconstrucciones frente a las originales"
   ]
  },
  {
   "cell_type": "code",
   "execution_count": 12,
   "metadata": {},
   "outputs": [
    {
     "data": {
      "image/png": "[encoded data removed]",
      "text/plain": [
       "<Figure size 1440x288 with 20 Axes>"
      ]
     },
     "metadata": {
      "needs_background": "light"
     },
     "output_type": "display_data"
    }
   ],
   "source": [
    "n = 10\n",
    "plt.figure(figsize=(20, 4))\n",
    "for i in range(n):\n",
    "    # display original\n",
    "    ax = plt.subplot(2, n, i + 1)\n",
    "    plt.imshow(x_test[i].reshape(28, 28))\n",
    "    plt.gray()\n",
    "    plt.title(\"Original\")\n",
    "    ax.get_xaxis().set_visible(False)\n",
    "    ax.get_yaxis().set_visible(False)\n",
    "\n",
    "    # display reconstruccion\n",
    "    ax = plt.subplot(2, n, i + 1 + n)\n",
    "    plt.imshow(images[i].reshape(28, 28))\n",
    "    plt.gray()\n",
    "    plt.title(\"Reconstruida\")\n",
    "    ax.get_xaxis().set_visible(False)\n",
    "    ax.get_yaxis().set_visible(False)\n",
    "plt.show()"
   ]
  }
 ],
 "metadata": {
  "interpreter": {
   "hash": "ad2bdc8ecc057115af97d19610ffacc2b4e99fae6737bb82f5d7fb13d2f2c186"
  },
  "kernelspec": {
   "display_name": "Python 3.8.8 ('base')",
   "language": "python",
   "name": "python3"
  },
  "language_info": {
   "codemirror_mode": {
    "name": "ipython",
    "version": 3
   },
   "file_extension": ".py",
   "mimetype": "text/x-python",
   "name": "python",
   "nbconvert_exporter": "python",
   "pygments_lexer": "ipython3",
   "version": "3.8.8"
  },
  "orig_nbformat": 4
 },
 "nbformat": 4,
 "nbformat_minor": 2
}
