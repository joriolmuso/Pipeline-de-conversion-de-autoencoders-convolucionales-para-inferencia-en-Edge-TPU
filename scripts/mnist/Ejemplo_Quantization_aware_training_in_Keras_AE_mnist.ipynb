{
  "cells": [
    {
      "cell_type": "markdown",
      "metadata": {
        "id": "HWtDrZB6S4DC"
      },
      "source": [
        "\n",
        "# Quantization aware training in Keras"
      ]
    },
    {
      "cell_type": "markdown",
      "metadata": {
        "id": "c7-0OhISS4DF"
      },
      "source": [
        "### Librerias"
      ]
    },
    {
      "cell_type": "code",
      "source": [
        "!pip install tensorflow_model_optimization"
      ],
      "metadata": {
        "colab": {
          "base_uri": "https://localhost:8080/"
        },
        "id": "6_tOJgNOUUqd",
        "outputId": "52327962-0332-42e8-bf37-03651cbd03f3"
      },
      "execution_count": 6,
      "outputs": [
        {
          "output_type": "stream",
          "name": "stdout",
          "text": [
            "Looking in indexes: https://pypi.org/simple, https://us-python.pkg.dev/colab-wheels/public/simple/\n",
            "Requirement already satisfied: tensorflow_model_optimization in /usr/local/lib/python3.7/dist-packages (0.7.2)\n",
            "Requirement already satisfied: six~=1.10 in /usr/local/lib/python3.7/dist-packages (from tensorflow_model_optimization) (1.15.0)\n",
            "Requirement already satisfied: numpy~=1.14 in /usr/local/lib/python3.7/dist-packages (from tensorflow_model_optimization) (1.21.6)\n",
            "Requirement already satisfied: dm-tree~=0.1.1 in /usr/local/lib/python3.7/dist-packages (from tensorflow_model_optimization) (0.1.7)\n"
          ]
        }
      ]
    },
    {
      "cell_type": "code",
      "execution_count": 7,
      "metadata": {
        "id": "sOqNBKZhS4DG"
      },
      "outputs": [],
      "source": [
        "from tensorflow.keras.layers import Input, Conv2D, MaxPooling2D, UpSampling2D, Dense\n",
        "from tensorflow.keras.models import Model\n",
        "import tensorflow as tf\n",
        "\n",
        "import tensorflow_model_optimization as tfmot\n",
        "\n",
        "from keras.datasets import mnist\n",
        "\n",
        "import numpy as np\n",
        "import matplotlib.pyplot as plt\n",
        "import os\n",
        "import time"
      ]
    },
    {
      "cell_type": "code",
      "source": [
        "print(tfmot.__version__)\n"
      ],
      "metadata": {
        "colab": {
          "base_uri": "https://localhost:8080/"
        },
        "id": "9B5qefIsVReY",
        "outputId": "5d71eaee-3e44-4d23-b85b-279513639636"
      },
      "execution_count": 8,
      "outputs": [
        {
          "output_type": "stream",
          "name": "stdout",
          "text": [
            "0.7.2\n"
          ]
        }
      ]
    },
    {
      "cell_type": "markdown",
      "metadata": {
        "id": "73MLABMxS4DH"
      },
      "source": [
        "### Carga datos"
      ]
    },
    {
      "cell_type": "code",
      "execution_count": 9,
      "metadata": {
        "id": "ldwcYoR6S4DH"
      },
      "outputs": [],
      "source": [
        "(x_train, _), (x_test, _) = mnist.load_data()\n",
        "\n",
        "# DATOS\n",
        "x_train = x_train.astype('float32') / 255.\n",
        "x_test = x_test.astype('float32') / 255.\n",
        "x_train = x_train.reshape((len(x_train), np.prod(x_train.shape[1:])))\n",
        "x_test = x_test.reshape((len(x_test), np.prod(x_test.shape[1:])))"
      ]
    },
    {
      "cell_type": "markdown",
      "metadata": {
        "id": "NT69Z34XS4DH"
      },
      "source": [
        "### Creación de modelo"
      ]
    },
    {
      "cell_type": "code",
      "execution_count": 10,
      "metadata": {
        "id": "7lB-5swNS4DI"
      },
      "outputs": [],
      "source": [
        "# dimension de dominio intermedio\n",
        "encoding_dim = 32  \n",
        "\n",
        "encoder_input = Input(shape=(784,), name=\"original_img\")\n",
        "# ENCODER\n",
        "encoded = Dense(256, activation='relu')(encoder_input)\n",
        "encoded = Dense(128, activation='relu')(encoded)\n",
        "encoded = Dense(64, activation='relu')(encoded)\n",
        "encoder_out = Dense(encoding_dim, activation='relu')(encoded)\n",
        "\n",
        "# DECODER\n",
        "encoded_input = Input(shape=(encoding_dim,))\n",
        "decoded = Dense(64, activation='relu')(encoded_input)\n",
        "decoded = Dense(128, activation='relu')(decoded)\n",
        "decoded = Dense(256, activation='relu')(decoded)\n",
        "decoder_output = Dense(784, activation='sigmoid')(decoded)\n",
        "\n",
        "# Modelo para el encoder\n",
        "encoder = Model(encoder_input, encoder_out, name=\"encoder\")\n",
        "\n",
        "# Modelo del decoder\n",
        "decoder = Model(encoded_input, decoder_output, name=\"decoder\")"
      ]
    },
    {
      "cell_type": "code",
      "execution_count": 11,
      "metadata": {
        "colab": {
          "base_uri": "https://localhost:8080/"
        },
        "id": "zyafxMEAS4DJ",
        "outputId": "a3d9c8de-7033-4bba-e3f9-89d461956037"
      },
      "outputs": [
        {
          "output_type": "stream",
          "name": "stdout",
          "text": [
            "Model: \"autoencoder\"\n",
            "_________________________________________________________________\n",
            " Layer (type)                Output Shape              Param #   \n",
            "=================================================================\n",
            " img (InputLayer)            [(None, 784)]             0         \n",
            "                                                                 \n",
            " encoder (Functional)        (None, 32)                244215    \n",
            "                                                                 \n",
            " decoder (Functional)        (None, 784)               244967    \n",
            "                                                                 \n",
            "=================================================================\n",
            "Total params: 489,182\n",
            "Trainable params: 489,136\n",
            "Non-trainable params: 46\n",
            "_________________________________________________________________\n"
          ]
        }
      ],
      "source": [
        "quantize_model = tfmot.quantization.keras.quantize_model\n",
        "\n",
        "q_encoder_model = quantize_model(encoder)\n",
        "q_decoder_model = quantize_model(decoder)\n",
        "\n",
        "# AUTOENCODER\n",
        "autoencoder_input = Input(shape=(784,), name=\"img\")\n",
        "encoded_img = q_encoder_model(autoencoder_input)\n",
        "decoded_img = q_decoder_model(encoded_img)\n",
        "autoencoder = Model(autoencoder_input, decoded_img, name=\"autoencoder\")\n",
        "\n",
        "autoencoder.compile(optimizer = tf.keras.optimizers.Adam(learning_rate=0.001), \n",
        "                    loss='mse')\n",
        "\n",
        "autoencoder.summary()"
      ]
    },
    {
      "cell_type": "markdown",
      "metadata": {
        "id": "47qrUFKqS4DJ"
      },
      "source": [
        "En caso de autoencoder requiere quantizar encoder y decoder de forma separada"
      ]
    },
    {
      "cell_type": "markdown",
      "metadata": {
        "id": "rxRuda2HS4DK"
      },
      "source": [
        "### Entrenamiento cuantizado"
      ]
    },
    {
      "cell_type": "markdown",
      "metadata": {
        "id": "BIHA-qetS4DK"
      },
      "source": [
        "### Train"
      ]
    },
    {
      "cell_type": "code",
      "execution_count": 12,
      "metadata": {
        "id": "Im4nk6fmS4DK"
      },
      "outputs": [],
      "source": [
        "my_callbacks = [tf.keras.callbacks.EarlyStopping(patience=50),\n",
        "                # tf.keras.callbacks.ModelCheckpoint(filepath='./quant_models/quant_aware_dense.h5'),\n",
        "                tf.keras.callbacks.ReduceLROnPlateau(monitor='val_loss', factor=0.25, patience=5, verbose=1, min_delta=1e-8, mode='min')]"
      ]
    },
    {
      "cell_type": "code",
      "execution_count": 13,
      "metadata": {
        "colab": {
          "base_uri": "https://localhost:8080/"
        },
        "id": "RVF7zoMiS4DL",
        "outputId": "2fc9ddf7-c4df-4cfb-fc9d-c268b2abab01"
      },
      "outputs": [
        {
          "output_type": "stream",
          "name": "stdout",
          "text": [
            "Epoch 1/1000\n",
            "1875/1875 [==============================] - 23s 9ms/step - loss: 0.0394 - val_loss: 0.0299 - lr: 0.0010\n",
            "Epoch 2/1000\n",
            "1875/1875 [==============================] - 12s 6ms/step - loss: 0.0283 - val_loss: 0.0276 - lr: 0.0010\n",
            "Epoch 3/1000\n",
            "1875/1875 [==============================] - 13s 7ms/step - loss: 0.0294 - val_loss: 0.0291 - lr: 0.0010\n",
            "Epoch 4/1000\n",
            "1875/1875 [==============================] - 12s 7ms/step - loss: 0.0332 - val_loss: 0.0368 - lr: 0.0010\n",
            "Epoch 5/1000\n",
            "1875/1875 [==============================] - 13s 7ms/step - loss: 0.0333 - val_loss: 0.0272 - lr: 0.0010\n",
            "Epoch 6/1000\n",
            "1875/1875 [==============================] - 13s 7ms/step - loss: 0.0258 - val_loss: 0.0245 - lr: 0.0010\n",
            "Epoch 7/1000\n",
            "1875/1875 [==============================] - 12s 6ms/step - loss: 0.0231 - val_loss: 0.0220 - lr: 0.0010\n",
            "Epoch 8/1000\n",
            "1875/1875 [==============================] - 13s 7ms/step - loss: 0.0217 - val_loss: 0.0209 - lr: 0.0010\n",
            "Epoch 9/1000\n",
            "1875/1875 [==============================] - 13s 7ms/step - loss: 0.0207 - val_loss: 0.0202 - lr: 0.0010\n",
            "Epoch 10/1000\n",
            "1875/1875 [==============================] - 12s 7ms/step - loss: 0.0198 - val_loss: 0.0195 - lr: 0.0010\n",
            "Epoch 11/1000\n",
            "1875/1875 [==============================] - 12s 6ms/step - loss: 0.0191 - val_loss: 0.0186 - lr: 0.0010\n",
            "Epoch 12/1000\n",
            "1875/1875 [==============================] - 12s 7ms/step - loss: 0.0184 - val_loss: 0.0179 - lr: 0.0010\n",
            "Epoch 13/1000\n",
            "1875/1875 [==============================] - 12s 6ms/step - loss: 0.0178 - val_loss: 0.0172 - lr: 0.0010\n",
            "Epoch 14/1000\n",
            "1875/1875 [==============================] - 12s 6ms/step - loss: 0.0172 - val_loss: 0.0168 - lr: 0.0010\n",
            "Epoch 15/1000\n",
            "1875/1875 [==============================] - 12s 6ms/step - loss: 0.0166 - val_loss: 0.0164 - lr: 0.0010\n",
            "Epoch 16/1000\n",
            "1875/1875 [==============================] - 13s 7ms/step - loss: 0.0160 - val_loss: 0.0159 - lr: 0.0010\n",
            "Epoch 17/1000\n",
            "1875/1875 [==============================] - 12s 6ms/step - loss: 0.0155 - val_loss: 0.0150 - lr: 0.0010\n",
            "Epoch 18/1000\n",
            "1875/1875 [==============================] - 12s 6ms/step - loss: 0.0151 - val_loss: 0.0148 - lr: 0.0010\n",
            "Epoch 19/1000\n",
            "1875/1875 [==============================] - 13s 7ms/step - loss: 0.0148 - val_loss: 0.0147 - lr: 0.0010\n",
            "Epoch 20/1000\n",
            "1875/1875 [==============================] - 12s 7ms/step - loss: 0.0144 - val_loss: 0.0142 - lr: 0.0010\n",
            "Epoch 21/1000\n",
            "1875/1875 [==============================] - 12s 6ms/step - loss: 0.0141 - val_loss: 0.0141 - lr: 0.0010\n",
            "Epoch 22/1000\n",
            "1875/1875 [==============================] - 12s 7ms/step - loss: 0.0138 - val_loss: 0.0142 - lr: 0.0010\n",
            "Epoch 23/1000\n",
            "1875/1875 [==============================] - 12s 6ms/step - loss: 0.0136 - val_loss: 0.0133 - lr: 0.0010\n",
            "Epoch 24/1000\n",
            "1875/1875 [==============================] - 12s 7ms/step - loss: 0.0134 - val_loss: 0.0133 - lr: 0.0010\n",
            "Epoch 25/1000\n",
            "1875/1875 [==============================] - 12s 7ms/step - loss: 0.0132 - val_loss: 0.0131 - lr: 0.0010\n",
            "Epoch 26/1000\n",
            "1875/1875 [==============================] - 13s 7ms/step - loss: 0.0130 - val_loss: 0.0130 - lr: 0.0010\n",
            "Epoch 27/1000\n",
            "1875/1875 [==============================] - 13s 7ms/step - loss: 0.0129 - val_loss: 0.0129 - lr: 0.0010\n",
            "Epoch 28/1000\n",
            "1875/1875 [==============================] - 14s 7ms/step - loss: 0.0127 - val_loss: 0.0130 - lr: 0.0010\n",
            "Epoch 29/1000\n",
            "1875/1875 [==============================] - 13s 7ms/step - loss: 0.0126 - val_loss: 0.0124 - lr: 0.0010\n",
            "Epoch 30/1000\n",
            "1875/1875 [==============================] - 14s 7ms/step - loss: 0.0125 - val_loss: 0.0125 - lr: 0.0010\n",
            "Epoch 31/1000\n",
            "1875/1875 [==============================] - 15s 8ms/step - loss: 0.0123 - val_loss: 0.0121 - lr: 0.0010\n",
            "Epoch 32/1000\n",
            "1875/1875 [==============================] - 14s 7ms/step - loss: 0.0122 - val_loss: 0.0126 - lr: 0.0010\n",
            "Epoch 33/1000\n",
            "1875/1875 [==============================] - 14s 7ms/step - loss: 0.0121 - val_loss: 0.0120 - lr: 0.0010\n",
            "Epoch 34/1000\n",
            "1875/1875 [==============================] - 14s 8ms/step - loss: 0.0120 - val_loss: 0.0120 - lr: 0.0010\n",
            "Epoch 35/1000\n",
            "1875/1875 [==============================] - 14s 7ms/step - loss: 0.0119 - val_loss: 0.0124 - lr: 0.0010\n",
            "Epoch 36/1000\n",
            "1875/1875 [==============================] - 14s 7ms/step - loss: 0.0118 - val_loss: 0.0118 - lr: 0.0010\n",
            "Epoch 37/1000\n",
            "1875/1875 [==============================] - 13s 7ms/step - loss: 0.0117 - val_loss: 0.0119 - lr: 0.0010\n",
            "Epoch 38/1000\n",
            "1875/1875 [==============================] - 13s 7ms/step - loss: 0.0116 - val_loss: 0.0115 - lr: 0.0010\n",
            "Epoch 39/1000\n",
            "1875/1875 [==============================] - 13s 7ms/step - loss: 0.0116 - val_loss: 0.0115 - lr: 0.0010\n",
            "Epoch 40/1000\n",
            "1875/1875 [==============================] - 13s 7ms/step - loss: 0.0115 - val_loss: 0.0112 - lr: 0.0010\n",
            "Epoch 41/1000\n",
            "1875/1875 [==============================] - 13s 7ms/step - loss: 0.0114 - val_loss: 0.0114 - lr: 0.0010\n",
            "Epoch 42/1000\n",
            "1875/1875 [==============================] - 13s 7ms/step - loss: 0.0114 - val_loss: 0.0113 - lr: 0.0010\n",
            "Epoch 43/1000\n",
            "1875/1875 [==============================] - 15s 8ms/step - loss: 0.0114 - val_loss: 0.0113 - lr: 0.0010\n",
            "Epoch 44/1000\n",
            "1875/1875 [==============================] - 14s 7ms/step - loss: 0.0113 - val_loss: 0.0112 - lr: 0.0010\n",
            "Epoch 45/1000\n",
            "1875/1875 [==============================] - 14s 7ms/step - loss: 0.0114 - val_loss: 0.0111 - lr: 0.0010\n",
            "Epoch 46/1000\n",
            "1875/1875 [==============================] - 16s 8ms/step - loss: 0.0113 - val_loss: 0.0114 - lr: 0.0010\n",
            "Epoch 47/1000\n",
            "1875/1875 [==============================] - 14s 8ms/step - loss: 0.0113 - val_loss: 0.0112 - lr: 0.0010\n",
            "Epoch 48/1000\n",
            "1875/1875 [==============================] - 14s 8ms/step - loss: 0.0112 - val_loss: 0.0112 - lr: 0.0010\n",
            "Epoch 49/1000\n",
            "1875/1875 [==============================] - 14s 7ms/step - loss: 0.0112 - val_loss: 0.0112 - lr: 0.0010\n",
            "Epoch 50/1000\n",
            "1875/1875 [==============================] - 15s 8ms/step - loss: 0.0111 - val_loss: 0.0110 - lr: 0.0010\n",
            "Epoch 51/1000\n",
            "1875/1875 [==============================] - 14s 7ms/step - loss: 0.0111 - val_loss: 0.0111 - lr: 0.0010\n",
            "Epoch 52/1000\n",
            "1875/1875 [==============================] - 14s 8ms/step - loss: 0.0110 - val_loss: 0.0111 - lr: 0.0010\n",
            "Epoch 53/1000\n",
            "1875/1875 [==============================] - 14s 8ms/step - loss: 0.0110 - val_loss: 0.0110 - lr: 0.0010\n",
            "Epoch 54/1000\n",
            "1875/1875 [==============================] - 14s 7ms/step - loss: 0.0110 - val_loss: 0.0114 - lr: 0.0010\n",
            "Epoch 55/1000\n",
            "1875/1875 [==============================] - 14s 7ms/step - loss: 0.0110 - val_loss: 0.0113 - lr: 0.0010\n",
            "Epoch 56/1000\n",
            "1875/1875 [==============================] - 14s 8ms/step - loss: 0.0110 - val_loss: 0.0112 - lr: 0.0010\n",
            "Epoch 57/1000\n",
            "1875/1875 [==============================] - 14s 7ms/step - loss: 0.0110 - val_loss: 0.0109 - lr: 0.0010\n",
            "Epoch 58/1000\n",
            "1875/1875 [==============================] - 15s 8ms/step - loss: 0.0110 - val_loss: 0.0112 - lr: 0.0010\n",
            "Epoch 59/1000\n",
            "1875/1875 [==============================] - 14s 8ms/step - loss: 0.0109 - val_loss: 0.0110 - lr: 0.0010\n",
            "Epoch 60/1000\n",
            "1875/1875 [==============================] - 14s 7ms/step - loss: 0.0109 - val_loss: 0.0110 - lr: 0.0010\n",
            "Epoch 61/1000\n",
            "1875/1875 [==============================] - 14s 7ms/step - loss: 0.0109 - val_loss: 0.0112 - lr: 0.0010\n",
            "Epoch 62/1000\n",
            "1872/1875 [============================>.] - ETA: 0s - loss: 0.0109\n",
            "Epoch 62: ReduceLROnPlateau reducing learning rate to 0.0002500000118743628.\n",
            "1875/1875 [==============================] - 13s 7ms/step - loss: 0.0109 - val_loss: 0.0110 - lr: 0.0010\n",
            "Epoch 63/1000\n",
            "1875/1875 [==============================] - 13s 7ms/step - loss: 0.0098 - val_loss: 0.0101 - lr: 2.5000e-04\n",
            "Epoch 64/1000\n",
            "1875/1875 [==============================] - 13s 7ms/step - loss: 0.0099 - val_loss: 0.0102 - lr: 2.5000e-04\n",
            "Epoch 65/1000\n",
            "1875/1875 [==============================] - 15s 8ms/step - loss: 0.0099 - val_loss: 0.0100 - lr: 2.5000e-04\n",
            "Epoch 66/1000\n",
            "1875/1875 [==============================] - 13s 7ms/step - loss: 0.0099 - val_loss: 0.0101 - lr: 2.5000e-04\n",
            "Epoch 67/1000\n",
            "1875/1875 [==============================] - 13s 7ms/step - loss: 0.0099 - val_loss: 0.0104 - lr: 2.5000e-04\n",
            "Epoch 68/1000\n",
            "1875/1875 [==============================] - 13s 7ms/step - loss: 0.0099 - val_loss: 0.0103 - lr: 2.5000e-04\n",
            "Epoch 69/1000\n",
            "1875/1875 [==============================] - 13s 7ms/step - loss: 0.0099 - val_loss: 0.0103 - lr: 2.5000e-04\n",
            "Epoch 70/1000\n",
            "1870/1875 [============================>.] - ETA: 0s - loss: 0.0098\n",
            "Epoch 70: ReduceLROnPlateau reducing learning rate to 6.25000029685907e-05.\n",
            "1875/1875 [==============================] - 13s 7ms/step - loss: 0.0098 - val_loss: 0.0106 - lr: 2.5000e-04\n",
            "Epoch 71/1000\n",
            "1875/1875 [==============================] - 13s 7ms/step - loss: 0.0094 - val_loss: 0.0098 - lr: 6.2500e-05\n",
            "Epoch 72/1000\n",
            "1875/1875 [==============================] - 13s 7ms/step - loss: 0.0095 - val_loss: 0.0102 - lr: 6.2500e-05\n",
            "Epoch 73/1000\n",
            "1875/1875 [==============================] - 15s 8ms/step - loss: 0.0095 - val_loss: 0.0099 - lr: 6.2500e-05\n",
            "Epoch 74/1000\n",
            "1875/1875 [==============================] - 14s 7ms/step - loss: 0.0095 - val_loss: 0.0101 - lr: 6.2500e-05\n",
            "Epoch 75/1000\n",
            "1875/1875 [==============================] - 14s 7ms/step - loss: 0.0095 - val_loss: 0.0100 - lr: 6.2500e-05\n",
            "Epoch 76/1000\n",
            "1875/1875 [==============================] - ETA: 0s - loss: 0.0095\n",
            "Epoch 76: ReduceLROnPlateau reducing learning rate to 1.5625000742147677e-05.\n",
            "1875/1875 [==============================] - 14s 8ms/step - loss: 0.0095 - val_loss: 0.0099 - lr: 6.2500e-05\n",
            "Epoch 77/1000\n",
            "1875/1875 [==============================] - 14s 7ms/step - loss: 0.0093 - val_loss: 0.0095 - lr: 1.5625e-05\n",
            "Epoch 78/1000\n",
            "1875/1875 [==============================] - 13s 7ms/step - loss: 0.0093 - val_loss: 0.0097 - lr: 1.5625e-05\n",
            "Epoch 79/1000\n",
            "1875/1875 [==============================] - 13s 7ms/step - loss: 0.0093 - val_loss: 0.0097 - lr: 1.5625e-05\n",
            "Epoch 80/1000\n",
            "1875/1875 [==============================] - 13s 7ms/step - loss: 0.0094 - val_loss: 0.0097 - lr: 1.5625e-05\n",
            "Epoch 81/1000\n",
            "1875/1875 [==============================] - 13s 7ms/step - loss: 0.0094 - val_loss: 0.0098 - lr: 1.5625e-05\n",
            "Epoch 82/1000\n",
            "1872/1875 [============================>.] - ETA: 0s - loss: 0.0094\n",
            "Epoch 82: ReduceLROnPlateau reducing learning rate to 3.906250185536919e-06.\n",
            "1875/1875 [==============================] - 13s 7ms/step - loss: 0.0094 - val_loss: 0.0096 - lr: 1.5625e-05\n",
            "Epoch 83/1000\n",
            "1875/1875 [==============================] - 13s 7ms/step - loss: 0.0092 - val_loss: 0.0097 - lr: 3.9063e-06\n",
            "Epoch 84/1000\n",
            "1875/1875 [==============================] - 13s 7ms/step - loss: 0.0093 - val_loss: 0.0096 - lr: 3.9063e-06\n",
            "Epoch 85/1000\n",
            "1875/1875 [==============================] - 14s 8ms/step - loss: 0.0093 - val_loss: 0.0096 - lr: 3.9063e-06\n",
            "Epoch 86/1000\n",
            "1875/1875 [==============================] - 14s 7ms/step - loss: 0.0093 - val_loss: 0.0097 - lr: 3.9063e-06\n",
            "Epoch 87/1000\n",
            "1871/1875 [============================>.] - ETA: 0s - loss: 0.0093\n",
            "Epoch 87: ReduceLROnPlateau reducing learning rate to 9.765625463842298e-07.\n",
            "1875/1875 [==============================] - 15s 8ms/step - loss: 0.0093 - val_loss: 0.0098 - lr: 3.9063e-06\n",
            "Epoch 88/1000\n",
            "1875/1875 [==============================] - 13s 7ms/step - loss: 0.0091 - val_loss: 0.0096 - lr: 9.7656e-07\n",
            "Epoch 89/1000\n",
            "1875/1875 [==============================] - 13s 7ms/step - loss: 0.0092 - val_loss: 0.0096 - lr: 9.7656e-07\n",
            "Epoch 90/1000\n",
            "1875/1875 [==============================] - 14s 7ms/step - loss: 0.0092 - val_loss: 0.0098 - lr: 9.7656e-07\n",
            "Epoch 91/1000\n",
            "1875/1875 [==============================] - 15s 8ms/step - loss: 0.0093 - val_loss: 0.0098 - lr: 9.7656e-07\n",
            "Epoch 92/1000\n",
            "1874/1875 [============================>.] - ETA: 0s - loss: 0.0093\n",
            "Epoch 92: ReduceLROnPlateau reducing learning rate to 2.4414063659605745e-07.\n",
            "1875/1875 [==============================] - 14s 8ms/step - loss: 0.0093 - val_loss: 0.0099 - lr: 9.7656e-07\n",
            "Epoch 93/1000\n",
            "1875/1875 [==============================] - 14s 7ms/step - loss: 0.0091 - val_loss: 0.0096 - lr: 2.4414e-07\n",
            "Epoch 94/1000\n",
            "1875/1875 [==============================] - 13s 7ms/step - loss: 0.0092 - val_loss: 0.0096 - lr: 2.4414e-07\n",
            "Epoch 95/1000\n",
            "1875/1875 [==============================] - 12s 7ms/step - loss: 0.0092 - val_loss: 0.0095 - lr: 2.4414e-07\n",
            "Epoch 96/1000\n",
            "1875/1875 [==============================] - 12s 7ms/step - loss: 0.0092 - val_loss: 0.0097 - lr: 2.4414e-07\n",
            "Epoch 97/1000\n",
            "1875/1875 [==============================] - 13s 7ms/step - loss: 0.0093 - val_loss: 0.0097 - lr: 2.4414e-07\n",
            "Epoch 98/1000\n",
            "1875/1875 [==============================] - 13s 7ms/step - loss: 0.0092 - val_loss: 0.0097 - lr: 2.4414e-07\n",
            "Epoch 99/1000\n",
            "1875/1875 [==============================] - 12s 7ms/step - loss: 0.0093 - val_loss: 0.0096 - lr: 2.4414e-07\n",
            "Epoch 100/1000\n",
            "1874/1875 [============================>.] - ETA: 0s - loss: 0.0093\n",
            "Epoch 100: ReduceLROnPlateau reducing learning rate to 6.103515914901436e-08.\n",
            "1875/1875 [==============================] - 12s 7ms/step - loss: 0.0093 - val_loss: 0.0097 - lr: 2.4414e-07\n",
            "Epoch 101/1000\n",
            "1875/1875 [==============================] - 12s 6ms/step - loss: 0.0091 - val_loss: 0.0097 - lr: 6.1035e-08\n",
            "Epoch 102/1000\n",
            "1875/1875 [==============================] - 12s 6ms/step - loss: 0.0092 - val_loss: 0.0097 - lr: 6.1035e-08\n",
            "Epoch 103/1000\n",
            "1875/1875 [==============================] - 12s 7ms/step - loss: 0.0092 - val_loss: 0.0095 - lr: 6.1035e-08\n",
            "Epoch 104/1000\n",
            "1875/1875 [==============================] - 12s 7ms/step - loss: 0.0092 - val_loss: 0.0098 - lr: 6.1035e-08\n",
            "Epoch 105/1000\n",
            "1871/1875 [============================>.] - ETA: 0s - loss: 0.0092\n",
            "Epoch 105: ReduceLROnPlateau reducing learning rate to 1.525878978725359e-08.\n",
            "1875/1875 [==============================] - 13s 7ms/step - loss: 0.0092 - val_loss: 0.0095 - lr: 6.1035e-08\n",
            "Epoch 106/1000\n",
            "1875/1875 [==============================] - 13s 7ms/step - loss: 0.0090 - val_loss: 0.0094 - lr: 1.5259e-08\n",
            "Epoch 107/1000\n",
            "1875/1875 [==============================] - 12s 7ms/step - loss: 0.0091 - val_loss: 0.0094 - lr: 1.5259e-08\n",
            "Epoch 108/1000\n",
            "1875/1875 [==============================] - 12s 7ms/step - loss: 0.0091 - val_loss: 0.0094 - lr: 1.5259e-08\n",
            "Epoch 109/1000\n",
            "1875/1875 [==============================] - 12s 7ms/step - loss: 0.0091 - val_loss: 0.0094 - lr: 1.5259e-08\n",
            "Epoch 110/1000\n",
            "1875/1875 [==============================] - 13s 7ms/step - loss: 0.0091 - val_loss: 0.0096 - lr: 1.5259e-08\n",
            "Epoch 111/1000\n",
            "1875/1875 [==============================] - 13s 7ms/step - loss: 0.0091 - val_loss: 0.0095 - lr: 1.5259e-08\n",
            "Epoch 112/1000\n",
            "1875/1875 [==============================] - 13s 7ms/step - loss: 0.0091 - val_loss: 0.0095 - lr: 1.5259e-08\n",
            "Epoch 113/1000\n",
            "1875/1875 [==============================] - 14s 8ms/step - loss: 0.0091 - val_loss: 0.0096 - lr: 1.5259e-08\n",
            "Epoch 114/1000\n",
            "1875/1875 [==============================] - ETA: 0s - loss: 0.0091\n",
            "Epoch 114: ReduceLROnPlateau reducing learning rate to 3.814697446813398e-09.\n",
            "1875/1875 [==============================] - 14s 7ms/step - loss: 0.0091 - val_loss: 0.0096 - lr: 1.5259e-08\n",
            "Epoch 115/1000\n",
            "1875/1875 [==============================] - 14s 8ms/step - loss: 0.0088 - val_loss: 0.0092 - lr: 3.8147e-09\n",
            "Epoch 116/1000\n",
            "1875/1875 [==============================] - 13s 7ms/step - loss: 0.0088 - val_loss: 0.0092 - lr: 3.8147e-09\n",
            "Epoch 117/1000\n",
            "1875/1875 [==============================] - 13s 7ms/step - loss: 0.0088 - val_loss: 0.0093 - lr: 3.8147e-09\n",
            "Epoch 118/1000\n",
            "1875/1875 [==============================] - 13s 7ms/step - loss: 0.0088 - val_loss: 0.0092 - lr: 3.8147e-09\n",
            "Epoch 119/1000\n",
            "1875/1875 [==============================] - 12s 7ms/step - loss: 0.0088 - val_loss: 0.0092 - lr: 3.8147e-09\n",
            "Epoch 120/1000\n",
            "1875/1875 [==============================] - 13s 7ms/step - loss: 0.0088 - val_loss: 0.0092 - lr: 3.8147e-09\n",
            "Epoch 121/1000\n",
            "1875/1875 [==============================] - 12s 7ms/step - loss: 0.0088 - val_loss: 0.0092 - lr: 3.8147e-09\n",
            "Epoch 122/1000\n",
            "1875/1875 [==============================] - 13s 7ms/step - loss: 0.0088 - val_loss: 0.0092 - lr: 3.8147e-09\n",
            "Epoch 123/1000\n",
            "1875/1875 [==============================] - 13s 7ms/step - loss: 0.0088 - val_loss: 0.0092 - lr: 3.8147e-09\n",
            "Epoch 124/1000\n",
            "1875/1875 [==============================] - 12s 7ms/step - loss: 0.0088 - val_loss: 0.0092 - lr: 3.8147e-09\n",
            "Epoch 125/1000\n",
            "1875/1875 [==============================] - 12s 7ms/step - loss: 0.0088 - val_loss: 0.0092 - lr: 3.8147e-09\n",
            "Epoch 126/1000\n",
            "1875/1875 [==============================] - 12s 6ms/step - loss: 0.0088 - val_loss: 0.0093 - lr: 3.8147e-09\n",
            "Epoch 127/1000\n",
            "1875/1875 [==============================] - 12s 6ms/step - loss: 0.0088 - val_loss: 0.0092 - lr: 3.8147e-09\n",
            "Epoch 128/1000\n",
            "1875/1875 [==============================] - ETA: 0s - loss: 0.0088\n",
            "Epoch 128: ReduceLROnPlateau reducing learning rate to 9.536743617033494e-10.\n",
            "1875/1875 [==============================] - 12s 6ms/step - loss: 0.0088 - val_loss: 0.0092 - lr: 3.8147e-09\n",
            "Epoch 129/1000\n",
            "1875/1875 [==============================] - 12s 7ms/step - loss: 0.0087 - val_loss: 0.0091 - lr: 9.5367e-10\n",
            "Epoch 130/1000\n",
            "1875/1875 [==============================] - 13s 7ms/step - loss: 0.0087 - val_loss: 0.0091 - lr: 9.5367e-10\n",
            "Epoch 131/1000\n",
            "1875/1875 [==============================] - 12s 7ms/step - loss: 0.0087 - val_loss: 0.0091 - lr: 9.5367e-10\n",
            "Epoch 132/1000\n",
            "1875/1875 [==============================] - 13s 7ms/step - loss: 0.0087 - val_loss: 0.0091 - lr: 9.5367e-10\n",
            "Epoch 133/1000\n",
            "1875/1875 [==============================] - 13s 7ms/step - loss: 0.0087 - val_loss: 0.0092 - lr: 9.5367e-10\n",
            "Epoch 134/1000\n",
            "1875/1875 [==============================] - 13s 7ms/step - loss: 0.0087 - val_loss: 0.0091 - lr: 9.5367e-10\n",
            "Epoch 135/1000\n",
            "1875/1875 [==============================] - 13s 7ms/step - loss: 0.0087 - val_loss: 0.0091 - lr: 9.5367e-10\n",
            "Epoch 136/1000\n",
            "1875/1875 [==============================] - 13s 7ms/step - loss: 0.0087 - val_loss: 0.0092 - lr: 9.5367e-10\n",
            "Epoch 137/1000\n",
            "1875/1875 [==============================] - 12s 6ms/step - loss: 0.0087 - val_loss: 0.0091 - lr: 9.5367e-10\n",
            "Epoch 138/1000\n",
            "1875/1875 [==============================] - 12s 6ms/step - loss: 0.0087 - val_loss: 0.0091 - lr: 9.5367e-10\n",
            "Epoch 139/1000\n",
            "1875/1875 [==============================] - 13s 7ms/step - loss: 0.0087 - val_loss: 0.0091 - lr: 9.5367e-10\n",
            "Epoch 140/1000\n",
            "1875/1875 [==============================] - ETA: 0s - loss: 0.0087\n",
            "Epoch 140: ReduceLROnPlateau reducing learning rate to 2.3841859042583735e-10.\n",
            "1875/1875 [==============================] - 13s 7ms/step - loss: 0.0087 - val_loss: 0.0091 - lr: 9.5367e-10\n",
            "Epoch 141/1000\n",
            "1875/1875 [==============================] - 12s 7ms/step - loss: 0.0087 - val_loss: 0.0091 - lr: 2.3842e-10\n",
            "Epoch 142/1000\n",
            "1875/1875 [==============================] - 13s 7ms/step - loss: 0.0086 - val_loss: 0.0091 - lr: 2.3842e-10\n",
            "Epoch 143/1000\n",
            "1875/1875 [==============================] - 13s 7ms/step - loss: 0.0086 - val_loss: 0.0091 - lr: 2.3842e-10\n",
            "Epoch 144/1000\n",
            "1875/1875 [==============================] - 15s 8ms/step - loss: 0.0086 - val_loss: 0.0091 - lr: 2.3842e-10\n",
            "Epoch 145/1000\n",
            "1875/1875 [==============================] - 12s 7ms/step - loss: 0.0086 - val_loss: 0.0091 - lr: 2.3842e-10\n",
            "Epoch 146/1000\n",
            "1875/1875 [==============================] - 12s 7ms/step - loss: 0.0086 - val_loss: 0.0091 - lr: 2.3842e-10\n",
            "Epoch 147/1000\n",
            "1875/1875 [==============================] - 13s 7ms/step - loss: 0.0086 - val_loss: 0.0091 - lr: 2.3842e-10\n",
            "Epoch 148/1000\n",
            "1875/1875 [==============================] - 12s 7ms/step - loss: 0.0086 - val_loss: 0.0091 - lr: 2.3842e-10\n",
            "Epoch 149/1000\n",
            "1875/1875 [==============================] - ETA: 0s - loss: 0.0086\n",
            "Epoch 149: ReduceLROnPlateau reducing learning rate to 5.960464760645934e-11.\n",
            "1875/1875 [==============================] - 12s 7ms/step - loss: 0.0086 - val_loss: 0.0091 - lr: 2.3842e-10\n",
            "Epoch 150/1000\n",
            "1875/1875 [==============================] - 13s 7ms/step - loss: 0.0086 - val_loss: 0.0091 - lr: 5.9605e-11\n",
            "Epoch 151/1000\n",
            "1875/1875 [==============================] - 13s 7ms/step - loss: 0.0086 - val_loss: 0.0091 - lr: 5.9605e-11\n",
            "Epoch 152/1000\n",
            "1875/1875 [==============================] - 13s 7ms/step - loss: 0.0086 - val_loss: 0.0091 - lr: 5.9605e-11\n",
            "Epoch 153/1000\n",
            "1875/1875 [==============================] - 12s 7ms/step - loss: 0.0086 - val_loss: 0.0091 - lr: 5.9605e-11\n",
            "Epoch 154/1000\n",
            "1873/1875 [============================>.] - ETA: 0s - loss: 0.0086\n",
            "Epoch 154: ReduceLROnPlateau reducing learning rate to 1.4901161901614834e-11.\n",
            "1875/1875 [==============================] - 13s 7ms/step - loss: 0.0086 - val_loss: 0.0091 - lr: 5.9605e-11\n",
            "Epoch 155/1000\n",
            "1875/1875 [==============================] - 13s 7ms/step - loss: 0.0086 - val_loss: 0.0091 - lr: 1.4901e-11\n",
            "Epoch 156/1000\n",
            "1875/1875 [==============================] - 13s 7ms/step - loss: 0.0086 - val_loss: 0.0091 - lr: 1.4901e-11\n",
            "Epoch 157/1000\n",
            "1875/1875 [==============================] - 13s 7ms/step - loss: 0.0086 - val_loss: 0.0091 - lr: 1.4901e-11\n",
            "Epoch 158/1000\n",
            "1875/1875 [==============================] - 12s 6ms/step - loss: 0.0086 - val_loss: 0.0091 - lr: 1.4901e-11\n",
            "Epoch 159/1000\n",
            "1874/1875 [============================>.] - ETA: 0s - loss: 0.0086\n",
            "Epoch 159: ReduceLROnPlateau reducing learning rate to 3.725290475403709e-12.\n",
            "1875/1875 [==============================] - 12s 6ms/step - loss: 0.0086 - val_loss: 0.0091 - lr: 1.4901e-11\n",
            "Epoch 160/1000\n",
            "1875/1875 [==============================] - 13s 7ms/step - loss: 0.0086 - val_loss: 0.0091 - lr: 3.7253e-12\n",
            "Epoch 161/1000\n",
            "1875/1875 [==============================] - 13s 7ms/step - loss: 0.0086 - val_loss: 0.0091 - lr: 3.7253e-12\n",
            "Epoch 162/1000\n",
            "1875/1875 [==============================] - 13s 7ms/step - loss: 0.0086 - val_loss: 0.0091 - lr: 3.7253e-12\n",
            "Epoch 163/1000\n",
            "1875/1875 [==============================] - 12s 7ms/step - loss: 0.0086 - val_loss: 0.0091 - lr: 3.7253e-12\n",
            "Epoch 164/1000\n",
            "1872/1875 [============================>.] - ETA: 0s - loss: 0.0086\n",
            "Epoch 164: ReduceLROnPlateau reducing learning rate to 9.313226188509272e-13.\n",
            "1875/1875 [==============================] - 13s 7ms/step - loss: 0.0086 - val_loss: 0.0091 - lr: 3.7253e-12\n",
            "Epoch 165/1000\n",
            "1875/1875 [==============================] - 14s 7ms/step - loss: 0.0086 - val_loss: 0.0091 - lr: 9.3132e-13\n",
            "Epoch 166/1000\n",
            "1875/1875 [==============================] - 13s 7ms/step - loss: 0.0086 - val_loss: 0.0091 - lr: 9.3132e-13\n",
            "Epoch 167/1000\n",
            "1875/1875 [==============================] - 12s 7ms/step - loss: 0.0086 - val_loss: 0.0091 - lr: 9.3132e-13\n",
            "Epoch 168/1000\n",
            "1875/1875 [==============================] - 12s 7ms/step - loss: 0.0086 - val_loss: 0.0091 - lr: 9.3132e-13\n",
            "Epoch 169/1000\n",
            "1875/1875 [==============================] - 13s 7ms/step - loss: 0.0086 - val_loss: 0.0091 - lr: 9.3132e-13\n",
            "Epoch 170/1000\n",
            "1874/1875 [============================>.] - ETA: 0s - loss: 0.0086\n",
            "Epoch 170: ReduceLROnPlateau reducing learning rate to 2.328306547127318e-13.\n",
            "1875/1875 [==============================] - 12s 7ms/step - loss: 0.0086 - val_loss: 0.0091 - lr: 9.3132e-13\n",
            "Epoch 171/1000\n",
            "1875/1875 [==============================] - 13s 7ms/step - loss: 0.0086 - val_loss: 0.0091 - lr: 2.3283e-13\n",
            "Epoch 172/1000\n",
            "1875/1875 [==============================] - 13s 7ms/step - loss: 0.0086 - val_loss: 0.0091 - lr: 2.3283e-13\n",
            "Epoch 173/1000\n",
            "1875/1875 [==============================] - 12s 6ms/step - loss: 0.0086 - val_loss: 0.0091 - lr: 2.3283e-13\n",
            "Epoch 174/1000\n",
            "1875/1875 [==============================] - 13s 7ms/step - loss: 0.0086 - val_loss: 0.0091 - lr: 2.3283e-13\n",
            "Epoch 175/1000\n",
            "1875/1875 [==============================] - ETA: 0s - loss: 0.0086\n",
            "Epoch 175: ReduceLROnPlateau reducing learning rate to 5.820766367818295e-14.\n",
            "1875/1875 [==============================] - 13s 7ms/step - loss: 0.0086 - val_loss: 0.0091 - lr: 2.3283e-13\n",
            "Epoch 176/1000\n",
            "1875/1875 [==============================] - 13s 7ms/step - loss: 0.0086 - val_loss: 0.0091 - lr: 5.8208e-14\n",
            "Epoch 177/1000\n",
            "1875/1875 [==============================] - 13s 7ms/step - loss: 0.0086 - val_loss: 0.0091 - lr: 5.8208e-14\n",
            "Epoch 178/1000\n",
            "1875/1875 [==============================] - 13s 7ms/step - loss: 0.0086 - val_loss: 0.0091 - lr: 5.8208e-14\n",
            "Epoch 179/1000\n",
            "1875/1875 [==============================] - 13s 7ms/step - loss: 0.0086 - val_loss: 0.0091 - lr: 5.8208e-14\n",
            "Epoch 180/1000\n",
            "1868/1875 [============================>.] - ETA: 0s - loss: 0.0086\n",
            "Epoch 180: ReduceLROnPlateau reducing learning rate to 1.4551915919545737e-14.\n",
            "1875/1875 [==============================] - 13s 7ms/step - loss: 0.0086 - val_loss: 0.0091 - lr: 5.8208e-14\n",
            "Epoch 181/1000\n",
            "1875/1875 [==============================] - 12s 7ms/step - loss: 0.0086 - val_loss: 0.0091 - lr: 1.4552e-14\n",
            "Epoch 182/1000\n",
            "1875/1875 [==============================] - 13s 7ms/step - loss: 0.0086 - val_loss: 0.0091 - lr: 1.4552e-14\n",
            "Epoch 183/1000\n",
            "1875/1875 [==============================] - 12s 7ms/step - loss: 0.0086 - val_loss: 0.0091 - lr: 1.4552e-14\n",
            "Epoch 184/1000\n",
            "1875/1875 [==============================] - 12s 7ms/step - loss: 0.0086 - val_loss: 0.0091 - lr: 1.4552e-14\n",
            "Epoch 185/1000\n",
            "1870/1875 [============================>.] - ETA: 0s - loss: 0.0086\n",
            "Epoch 185: ReduceLROnPlateau reducing learning rate to 3.637978979886434e-15.\n",
            "1875/1875 [==============================] - 13s 7ms/step - loss: 0.0086 - val_loss: 0.0091 - lr: 1.4552e-14\n",
            "Epoch 186/1000\n",
            "1875/1875 [==============================] - 13s 7ms/step - loss: 0.0086 - val_loss: 0.0091 - lr: 3.6380e-15\n",
            "Epoch 187/1000\n",
            "1875/1875 [==============================] - 13s 7ms/step - loss: 0.0086 - val_loss: 0.0091 - lr: 3.6380e-15\n",
            "Epoch 188/1000\n",
            "1875/1875 [==============================] - 13s 7ms/step - loss: 0.0086 - val_loss: 0.0091 - lr: 3.6380e-15\n",
            "Epoch 189/1000\n",
            "1875/1875 [==============================] - 13s 7ms/step - loss: 0.0086 - val_loss: 0.0091 - lr: 3.6380e-15\n",
            "Epoch 190/1000\n",
            "1874/1875 [============================>.] - ETA: 0s - loss: 0.0086\n",
            "Epoch 190: ReduceLROnPlateau reducing learning rate to 9.094947449716085e-16.\n",
            "1875/1875 [==============================] - 13s 7ms/step - loss: 0.0086 - val_loss: 0.0091 - lr: 3.6380e-15\n",
            "Epoch 191/1000\n",
            "1875/1875 [==============================] - 12s 7ms/step - loss: 0.0086 - val_loss: 0.0091 - lr: 9.0949e-16\n",
            "Epoch 192/1000\n",
            "1875/1875 [==============================] - 13s 7ms/step - loss: 0.0086 - val_loss: 0.0091 - lr: 9.0949e-16\n",
            "Epoch 193/1000\n",
            "1875/1875 [==============================] - 12s 7ms/step - loss: 0.0086 - val_loss: 0.0091 - lr: 9.0949e-16\n",
            "Epoch 194/1000\n",
            "1875/1875 [==============================] - 13s 7ms/step - loss: 0.0086 - val_loss: 0.0091 - lr: 9.0949e-16\n",
            "Epoch 195/1000\n",
            "1871/1875 [============================>.] - ETA: 0s - loss: 0.0086\n",
            "Epoch 195: ReduceLROnPlateau reducing learning rate to 2.2737368624290214e-16.\n",
            "1875/1875 [==============================] - 13s 7ms/step - loss: 0.0086 - val_loss: 0.0091 - lr: 9.0949e-16\n",
            "Epoch 196/1000\n",
            "1875/1875 [==============================] - 13s 7ms/step - loss: 0.0086 - val_loss: 0.0091 - lr: 2.2737e-16\n",
            "Epoch 197/1000\n",
            "1875/1875 [==============================] - 13s 7ms/step - loss: 0.0086 - val_loss: 0.0091 - lr: 2.2737e-16\n",
            "Epoch 198/1000\n",
            "1875/1875 [==============================] - 13s 7ms/step - loss: 0.0086 - val_loss: 0.0091 - lr: 2.2737e-16\n",
            "Epoch 199/1000\n",
            "1875/1875 [==============================] - 12s 7ms/step - loss: 0.0086 - val_loss: 0.0091 - lr: 2.2737e-16\n",
            "Epoch 200/1000\n",
            "1875/1875 [==============================] - ETA: 0s - loss: 0.0086\n",
            "Epoch 200: ReduceLROnPlateau reducing learning rate to 5.684342156072553e-17.\n",
            "1875/1875 [==============================] - 13s 7ms/step - loss: 0.0086 - val_loss: 0.0091 - lr: 2.2737e-16\n",
            "Epoch 201/1000\n",
            "1875/1875 [==============================] - 12s 7ms/step - loss: 0.0086 - val_loss: 0.0091 - lr: 5.6843e-17\n",
            "Epoch 202/1000\n",
            "1875/1875 [==============================] - 12s 7ms/step - loss: 0.0086 - val_loss: 0.0091 - lr: 5.6843e-17\n",
            "Epoch 203/1000\n",
            "1875/1875 [==============================] - 13s 7ms/step - loss: 0.0086 - val_loss: 0.0091 - lr: 5.6843e-17\n",
            "Epoch 204/1000\n",
            "1875/1875 [==============================] - 13s 7ms/step - loss: 0.0086 - val_loss: 0.0091 - lr: 5.6843e-17\n",
            "Epoch 205/1000\n",
            "1867/1875 [============================>.] - ETA: 0s - loss: 0.0086\n",
            "Epoch 205: ReduceLROnPlateau reducing learning rate to 1.4210855390181384e-17.\n",
            "1875/1875 [==============================] - 12s 7ms/step - loss: 0.0086 - val_loss: 0.0091 - lr: 5.6843e-17\n",
            "Epoch 206/1000\n",
            "1875/1875 [==============================] - 13s 7ms/step - loss: 0.0086 - val_loss: 0.0091 - lr: 1.4211e-17\n",
            "Epoch 207/1000\n",
            "1875/1875 [==============================] - 12s 7ms/step - loss: 0.0086 - val_loss: 0.0091 - lr: 1.4211e-17\n",
            "Epoch 208/1000\n",
            "1875/1875 [==============================] - 13s 7ms/step - loss: 0.0086 - val_loss: 0.0091 - lr: 1.4211e-17\n",
            "Epoch 209/1000\n",
            "1875/1875 [==============================] - 12s 7ms/step - loss: 0.0086 - val_loss: 0.0091 - lr: 1.4211e-17\n",
            "Epoch 210/1000\n",
            "1869/1875 [============================>.] - ETA: 0s - loss: 0.0086\n",
            "Epoch 210: ReduceLROnPlateau reducing learning rate to 3.552713847545346e-18.\n",
            "1875/1875 [==============================] - 13s 7ms/step - loss: 0.0086 - val_loss: 0.0091 - lr: 1.4211e-17\n",
            "Epoch 211/1000\n",
            "1875/1875 [==============================] - 13s 7ms/step - loss: 0.0086 - val_loss: 0.0091 - lr: 3.5527e-18\n",
            "Epoch 212/1000\n",
            "1875/1875 [==============================] - 13s 7ms/step - loss: 0.0086 - val_loss: 0.0091 - lr: 3.5527e-18\n",
            "Epoch 213/1000\n",
            "1875/1875 [==============================] - 13s 7ms/step - loss: 0.0086 - val_loss: 0.0091 - lr: 3.5527e-18\n",
            "Epoch 214/1000\n",
            "1875/1875 [==============================] - 14s 7ms/step - loss: 0.0086 - val_loss: 0.0091 - lr: 3.5527e-18\n",
            "Epoch 215/1000\n",
            "1870/1875 [============================>.] - ETA: 0s - loss: 0.0086\n",
            "Epoch 215: ReduceLROnPlateau reducing learning rate to 8.881784618863365e-19.\n",
            "1875/1875 [==============================] - 12s 7ms/step - loss: 0.0086 - val_loss: 0.0091 - lr: 3.5527e-18\n"
          ]
        },
        {
          "output_type": "execute_result",
          "data": {
            "text/plain": [
              "<keras.callbacks.History at 0x7f20aa565ad0>"
            ]
          },
          "metadata": {},
          "execution_count": 13
        }
      ],
      "source": [
        "autoencoder.fit(x_train, x_train,\n",
        "                epochs=1000,\n",
        "                #batch_size=128,\n",
        "                shuffle=True,\n",
        "                validation_data=(x_test, x_test),\n",
        "                callbacks = my_callbacks)"
      ]
    },
    {
      "cell_type": "code",
      "execution_count": 14,
      "metadata": {
        "id": "ZYO_XJFnS4DL"
      },
      "outputs": [],
      "source": [
        "# autoencoder.load_weights('./quant_models/quant_aware_dense.h5')"
      ]
    },
    {
      "cell_type": "markdown",
      "metadata": {
        "id": "Z_7CYs6nS4DL"
      },
      "source": [
        "### Convert"
      ]
    },
    {
      "cell_type": "code",
      "execution_count": 19,
      "metadata": {
        "colab": {
          "base_uri": "https://localhost:8080/"
        },
        "id": "E_pRQlHGS4DL",
        "outputId": "f5005811-e8da-4173-a675-486ed0a3d23c"
      },
      "outputs": [
        {
          "output_type": "stream",
          "name": "stderr",
          "text": [
            "WARNING:absl:Found untraced functions such as dense_layer_call_fn, dense_layer_call_and_return_conditional_losses, dense_1_layer_call_fn, dense_1_layer_call_and_return_conditional_losses, dense_2_layer_call_fn while saving (showing 5 of 16). These functions will not be directly callable after loading.\n"
          ]
        },
        {
          "output_type": "stream",
          "name": "stdout",
          "text": [
            "INFO:tensorflow:Assets written to: /tmp/tmpgahurmn3/assets\n"
          ]
        },
        {
          "output_type": "stream",
          "name": "stderr",
          "text": [
            "INFO:tensorflow:Assets written to: /tmp/tmpgahurmn3/assets\n",
            "/usr/local/lib/python3.7/dist-packages/tensorflow/lite/python/convert.py:746: UserWarning: Statistics for quantized inputs were expected, but not specified; continuing anyway.\n",
            "  warnings.warn(\"Statistics for quantized inputs were expected, but not \"\n",
            "WARNING:absl:Buffer deduplication procedure will be skipped when flatbuffer library is not properly loaded\n"
          ]
        },
        {
          "output_type": "execute_result",
          "data": {
            "text/plain": [
              "500280"
            ]
          },
          "metadata": {},
          "execution_count": 19
        }
      ],
      "source": [
        "tflite_model_path = \"./quant_aware_dense.tflite\"\n",
        "\n",
        "converter = tf.lite.TFLiteConverter.from_keras_model(autoencoder)\n",
        "converter.optimizations = [tf.lite.Optimize.DEFAULT]\n",
        "tflite_model = converter.convert()\n",
        "open(tflite_model_path, \"wb\").write(tflite_model)"
      ]
    },
    {
      "cell_type": "markdown",
      "metadata": {
        "id": "Zj3kNHTaS4DM"
      },
      "source": [
        "### Charge and predict"
      ]
    },
    {
      "cell_type": "code",
      "execution_count": null,
      "metadata": {
        "id": "YNkM0nENS4DM"
      },
      "outputs": [],
      "source": [
        "batch = 1\n",
        "\n",
        "tflite_interpreter = tf.lite.Interpreter(model_path = tflite_model_path)\n",
        "\n",
        "input_details = tflite_interpreter.get_input_details()\n",
        "output_details = tflite_interpreter.get_output_details()\n",
        "\n",
        "tflite_interpreter.resize_tensor_input(input_details[0]['index'], (batch, 784))\n",
        "tflite_interpreter.resize_tensor_input(output_details[0]['index'], (batch, 784))\n",
        "tflite_interpreter.allocate_tensors()\n",
        "\n",
        "print(\"== Input details ==\")\n",
        "print(\"name:\", input_details[0]['name'])\n",
        "print(\"shape:\", input_details[0]['shape'])\n",
        "print(\"type:\", input_details[0]['dtype'])\n",
        "\n",
        "print(\"\\n== Output details ==\")\n",
        "print(\"name:\", output_details[0]['name'])\n",
        "print(\"shape:\", output_details[0]['shape'])\n",
        "print(\"type:\", output_details[0]['dtype'])\n"
      ]
    },
    {
      "cell_type": "code",
      "execution_count": null,
      "metadata": {
        "id": "tsTKhs_qS4DM"
      },
      "outputs": [],
      "source": [
        "def iterate(array, batch):\n",
        "    inf = 0\n",
        "    sup = batch\n",
        "    while sup < len(array)+batch:\n",
        "        res = array[inf:sup, :]\n",
        "        yield res\n",
        "        inf += batch\n",
        "        sup += batch"
      ]
    },
    {
      "cell_type": "code",
      "execution_count": null,
      "metadata": {
        "id": "_c2nlKsqS4DM"
      },
      "outputs": [],
      "source": [
        "tflite_interpreter = tf.lite.Interpreter(model_path = tflite_model_path)"
      ]
    },
    {
      "cell_type": "code",
      "execution_count": null,
      "metadata": {
        "id": "2lCGG85CS4DN"
      },
      "outputs": [],
      "source": [
        "input_details = tflite_interpreter.get_input_details()\n",
        "output_details = tflite_interpreter.get_output_details()\n",
        "\n",
        "t1 = time.time()\n",
        "iterator_test = iterate(x_test, 1)\n",
        "results = []\n",
        "\n",
        "#while True:\n",
        "#    try:    \n",
        "tflite_interpreter.set_tensor(input_details, next(iterator_test))\n",
        "\n",
        "tflite_interpreter.invoke()\n",
        "\n",
        "tflite_model_predictions = tflite_interpreter.get_tensor(output_details)\n",
        "results.append(tflite_model_predictions)\n",
        "#    except:\n",
        "#        break\n",
        "t2 = time.time()\n",
        "print(f\"Execute time: {round(t2 - t1, 2)} segs\")"
      ]
    },
    {
      "cell_type": "markdown",
      "metadata": {
        "id": "9JPz8etrS4DN"
      },
      "source": [
        "### Predict"
      ]
    },
    {
      "cell_type": "code",
      "execution_count": 15,
      "metadata": {
        "id": "xsci7IvqS4DN"
      },
      "outputs": [],
      "source": [
        "quant_decoded = autoencoder.predict(x_test)"
      ]
    },
    {
      "cell_type": "markdown",
      "metadata": {
        "id": "rxXQhcj6S4DO"
      },
      "source": [
        "### Test"
      ]
    },
    {
      "cell_type": "code",
      "execution_count": 16,
      "metadata": {
        "colab": {
          "base_uri": "https://localhost:8080/",
          "height": 248
        },
        "id": "ZjGlojv5S4DO",
        "outputId": "7fde7b6f-64f0-4a65-db63-ae02f461eb6b"
      },
      "outputs": [
        {
          "output_type": "display_data",
          "data": {
            "text/plain": [
              "<Figure size 1440x288 with 20 Axes>"
            ],
            "image/png": "[encoded data removed]"
          },
          "metadata": {
            "needs_background": "light"
          }
        }
      ],
      "source": [
        "n = 10 \n",
        "plt.figure(figsize=(20, 4))\n",
        "for i in range(n):\n",
        "    # display original\n",
        "    ax = plt.subplot(2, n, i + 1)\n",
        "    plt.imshow(x_test[i].reshape(28, 28))\n",
        "    plt.gray()\n",
        "    ax.get_xaxis().set_visible(False)\n",
        "    ax.get_yaxis().set_visible(False)\n",
        "\n",
        "    # display reconstruccion\n",
        "    ax = plt.subplot(2, n, i + 1 + n)\n",
        "    plt.imshow(quant_decoded[i].reshape(28, 28))\n",
        "    plt.gray()\n",
        "    ax.get_xaxis().set_visible(False)\n",
        "    ax.get_yaxis().set_visible(False)\n",
        "plt.show()"
      ]
    }
  ],
  "metadata": {
    "interpreter": {
      "hash": "183bbf6827d058c2a2fb0f4acdc0420849dda2b4380af0e437e38c64d798d8b7"
    },
    "kernelspec": {
      "display_name": "Python 3.8.8 64-bit ('base': conda)",
      "language": "python",
      "name": "python3"
    },
    "language_info": {
      "codemirror_mode": {
        "name": "ipython",
        "version": 3
      },
      "file_extension": ".py",
      "mimetype": "text/x-python",
      "name": "python",
      "nbconvert_exporter": "python",
      "pygments_lexer": "ipython3",
      "version": "3.8.8"
    },
    "orig_nbformat": 4,
    "colab": {
      "name": "Quantization aware training in Keras.ipynb",
      "provenance": []
    },
    "accelerator": "GPU",
    "gpuClass": "standard"
  },
  "nbformat": 4,
  "nbformat_minor": 0
}